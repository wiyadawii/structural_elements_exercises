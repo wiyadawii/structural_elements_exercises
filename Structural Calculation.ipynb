{
 "cells": [
  {
   "cell_type": "markdown",
   "id": "412eba3f",
   "metadata": {},
   "source": [
    "## Self-weight of a reinforced concrete beam\n",
    "1) calculate the self-weight of a reinforced concrete slab 6.5 x 6.5 m of overall depth 250mm, assuming the concrete is:\n",
    "\n",
    "<p>i) Normal weight</p>\n",
    "<p>ii)Wet normal weight</p>\n",
    "\n",
    "   |Materials|       |Density, <i>y</i>(kN m$^3$)|\n",
    "   |-----------|     | ----------------------|\n",
    "   | Reinforced concrete:|    |    |   |    |\n",
    "   |    Normal weight    |    | 25 |   |    |\n",
    "   |    Wet normal weight|    | 26 |   |    |\n",
    "    \n",
    "    "
   ]
  },
  {
   "cell_type": "markdown",
   "id": "c0b0f317",
   "metadata": {},
   "source": [
    "(i) Normal weight\n",
    "\n",
    "Fron the table, the reinforced concrete normal weight density is 25kN m$^-$$^3$ <i>(y)</i>\n",
    "\n",
    "<b>Self-weight(SW)</b>\n",
    "\n",
    "SW  = volumn x density\n",
    "    \n"
   ]
  },
  {
   "cell_type": "code",
   "execution_count": 42,
   "id": "0fd2f0a0",
   "metadata": {
    "scrolled": false
   },
   "outputs": [
    {
     "name": "stdout",
     "output_type": "stream",
     "text": [
      "The concrete's volumn is 10.6\n",
      "The reinforced concrete's self-weight is 264.0625 kN\n"
     ]
    }
   ],
   "source": [
    "wide = 6.5\n",
    "length = 6.5\n",
    "depth = 0.25\n",
    "volumn = wide * length * depth\n",
    "print(\"The concrete's volumn is \" + str(round(volumn,1)))\n",
    "\n",
    "density = 25\n",
    "self_weight = volumn * density\n",
    "print(\"The reinforced concrete's self-weight is \" + str(self_weight) + \" kN\")"
   ]
  },
  {
   "cell_type": "markdown",
   "id": "187600e7",
   "metadata": {},
   "source": [
    "(ii) Wet normal weight\n",
    "\n",
    "From the table, the density of wet normal weight reinforced concrete is 26kNm$^-3$ (<i>y</i>)\n",
    "\n",
    "SW = volumn x density"
   ]
  },
  {
   "cell_type": "code",
   "execution_count": 41,
   "id": "8033082a",
   "metadata": {},
   "outputs": [
    {
     "name": "stdout",
     "output_type": "stream",
     "text": [
      "The concrete's volumn is 10.6\n",
      "The reinforced concrete's self-weight is 274.6 kN\n"
     ]
    }
   ],
   "source": [
    "wide = 6.5\n",
    "length = 6.5\n",
    "depth = 0.25\n",
    "volumn = wide * length * depth\n",
    "print(\"The concrete's volumn is \" + str(round(volumn,1)))\n",
    "\n",
    "density = 26\n",
    "self_weight = volumn * density\n",
    "\n",
    "print(\"The reinforced concrete's self-weight is \" + str(round(self_weight,1)) + \" kN\")"
   ]
  },
  {
   "cell_type": "code",
   "execution_count": null,
   "id": "82bc7ff0",
   "metadata": {},
   "outputs": [],
   "source": []
  }
 ],
 "metadata": {
  "kernelspec": {
   "display_name": "Python 3 (ipykernel)",
   "language": "python",
   "name": "python3"
  },
  "language_info": {
   "codemirror_mode": {
    "name": "ipython",
    "version": 3
   },
   "file_extension": ".py",
   "mimetype": "text/x-python",
   "name": "python",
   "nbconvert_exporter": "python",
   "pygments_lexer": "ipython3",
   "version": "3.9.13"
  }
 },
 "nbformat": 4,
 "nbformat_minor": 5
}
